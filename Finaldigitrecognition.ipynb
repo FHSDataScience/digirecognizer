{
 "cells": [
  {
   "cell_type": "code",
   "execution_count": 40,
   "metadata": {},
   "outputs": [],
   "source": [
    "import numpy as np\n",
    "import pandas as pd\n",
    "import matplotlib.pyplot as plt\n",
    "from sklearn.datasets import fetch_openml\n",
    "from sklearn.neural_network import MLPClassifier\n",
    "from sklearn.model_selection import train_test_split\n",
    "from sklearn.metrics import precision_score, recall_score, accuracy_score\n",
    "from PIL import Image,ImageOps\n",
    "\n",
    "from sklearn.multiclass import OneVsRestClassifier\n",
    "from sklearn.svm import SVC\n",
    "\n",
    "#Mnist dataset\n",
    "mnist = fetch_openml('mnist_784', version=1)\n",
    "X,y = mnist['data'], mnist[\"target\"]"
   ]
  },
  {
   "cell_type": "code",
   "execution_count": 44,
   "metadata": {},
   "outputs": [],
   "source": [
    "class DigitRecognizer():\n",
    "    def __init__(self, X,y):\n",
    "        #SplitX X,y Data, each row of X will be shape 28x28 (3 dimensional matrix), y will be 1d array\n",
    "        self.X_train, self.X_test, self.y_train, self.y_test = X[:15000], X[15000:20000], y[:15000], y[15000:20000] \n",
    "         # Need to reshape training data into (#of training examples) x 784\n",
    "        self.X_train = self.X_train.reshape(len(self.y_train), 784)\n",
    "        # Need to reshape X test data into (#of test examples) x 784\n",
    "        self.X_test = self.X_test.reshape(len(self.y_test), 784) \n",
    "        # Neural Network classifier\n",
    "        self.model = OneVsRestClassifier(SVC())\n",
    "        self.model_fitted = False\n",
    "        self.predictions = None\n",
    "        self.train_predictions = None\n",
    "\n",
    "\n",
    "    def fit_model(self):\n",
    "        self.model.fit(self.X_train, self.y_train)\n",
    "        self.model_fitted  = True\n",
    "        self.predictions = self.model.predict(self.X_test)\n",
    "        self.train_predictions = self.model.predict(self.X_train);\n",
    "      \n",
    "    def predict_new(self, X_new):\n",
    "        X_new = X_new.reshape(1,784)\n",
    "        prediction = self.model.predict(X_new)\n",
    "        return prediction\n",
    "\n",
    "    def show_train_metrics(self):  #Metrics for training data\n",
    "        # Generally, the closer these numbers are to 1, the better. Should each be at least 80%\n",
    "        accuracy = accuracy_score(self.y_train, self.train_predictions)\n",
    "        precision = precision_score(self.y_train, self.train_predictions)\n",
    "        recall = precision_score(self.y_train, self.train_predictions)\n",
    "        print(f\"Precision Train: {precision}\")\n",
    "        print(f\"Recall Train: {recall}\")\n",
    "        print(f\"Accuracy Train: {accuracy}\")\n",
    "    def show_test_metrics(self): #Metrics for test data\n",
    "        accuracy = accuracy_score(self.y_test, self.predictions)\n",
    "        precision = precision_score(self.y_test, self.predictions)\n",
    "        recall = precision_score(self.y_test, self.predictions)\n",
    "        print(f\"Precision Test: {precision}\")\n",
    "        print(f\"Recall Test: {recall}\")\n",
    "        print(f\"Accuracy Test: {accuracy}\")\n",
    "    def show_shapes(self):\n",
    "        print(self.y_train.shape)\n",
    "        print(self.train_predictions.shape)\n",
    "\n"
   ]
  },
  {
   "cell_type": "code",
   "execution_count": null,
   "metadata": {},
   "outputs": [],
   "source": []
  },
  {
   "cell_type": "code",
   "execution_count": 45,
   "metadata": {},
   "outputs": [],
   "source": [
    "# Execute Model\n",
    "classifier = DigitRecognizer(X,y)  #Input X,y from beginning of the code (from mnist)\n",
    "\n"
   ]
  },
  {
   "cell_type": "code",
   "execution_count": null,
   "metadata": {},
   "outputs": [],
   "source": [
    "classifier.fit_model()             #Also makes predictions, saves in self.predictions\n",
    "\n"
   ]
  },
  {
   "cell_type": "code",
   "execution_count": null,
   "metadata": {},
   "outputs": [],
   "source": [
    "classifier.show_shapes()"
   ]
  },
  {
   "cell_type": "code",
   "execution_count": null,
   "metadata": {},
   "outputs": [],
   "source": [
    "accuracy = accuracy_score(classifier.y_train, classifier.train_predictions)\n",
    "precision = precision_score(classifier.y_train, classifier.train_predictions, average=\"macro\")\n",
    "recall = recall_score(classifier.y_train, classifier.train_predictions, average=\"macro\")\n",
    "print(f\"Accuracy Train: {accuracy}\")\n",
    "print(f\"Recall Train: {recall}\")\n",
    "print(f\"Precision Train: {precision}\")"
   ]
  },
  {
   "cell_type": "code",
   "execution_count": null,
   "metadata": {},
   "outputs": [],
   "source": [
    "accuracy = accuracy_score(classifier.y_test, classifier.predictions)\n",
    "precision = precision_score(classifier.y_test, classifier.predictions, average = \"macro\")\n",
    "recall = precision_score(classifier.y_test, classifier.predictions, average = \"macro\")\n",
    "print(f\"Precision Test: {precision}\")\n",
    "print(f\"Recall Test: {recall}\")\n",
    "print(f\"Accuracy Test: {accuracy}\")"
   ]
  },
  {
   "cell_type": "code",
   "execution_count": null,
   "metadata": {},
   "outputs": [],
   "source": [
    "import joblib\n",
    "joblib.dump(classifier, \"digimodel.pkl\")"
   ]
  },
  {
   "cell_type": "code",
   "execution_count": null,
   "metadata": {},
   "outputs": [],
   "source": [
    "print(\"Past first area\")\n",
    "y_pred = classifier.predictions\n",
    "print(y_pred)\n",
    "classifier.show_train_metrics()    # Show the evaluation metrics (accuracy, precision, recall)\n",
    "#classifier.show_test_metrics()     \n",
    "\n",
    "\n",
    "# Note: Finish optimizing the model on both the training and test data before making predictions on completely new, hand-drawn images\n",
    "# Get New Image, predict using ML Model \n",
    "# Using PIL module to open, convert image to 28 x 28, make it grayscale (instead of rgb), convert to array, plot image\n",
    "img = Image.open('temp.png')\n",
    "img_small = img.resize((28,28))\n",
    "img_gray = ImageOps.grayscale(img_small)\n",
    "# Invert the image because, for some reason, the background becomes all black with white number\n",
    "img_gray = ImageOps.invert(img_gray)  \n",
    "img_gray_arr = np.array(img_gray)\n",
    "plt.imshow(img_gray_arr, cmap='binary')   # Plotting\n",
    "plt.show()\n",
    "print(img_gray_arr.shape)        # Shape will be 28x28\n",
    "\n",
    "X_new = img_gray_arr\n",
    "new_pred = classifier.predict_new(X_new)\n",
    "print(new_pred)\n"
   ]
  },
  {
   "cell_type": "code",
   "execution_count": null,
   "metadata": {},
   "outputs": [],
   "source": [
    "modelloaded = joblib.load(\"digimodel.pkl\")\n",
    "for k in range(1, 10):\n",
    "    img = Image.open(f'temp{k}.png')\n",
    "    img_small = img.resize((28,28))\n",
    "    img_gray = ImageOps.grayscale(img_small)\n",
    "    # Invert the image because, for some reason, the background becomes all black with white number\n",
    "    img_gray = ImageOps.invert(img_gray)  \n",
    "    img_gray_arr = np.array(img_gray)\n",
    "    plt.imshow(img_gray_arr, cmap='binary')  \n",
    "    print(modelloaded.predict_new(img_gray_arr))\n",
    "    print(accuracy_score(classifier.y_test, classifier.predictions))"
   ]
  }
 ],
 "metadata": {
  "kernelspec": {
   "display_name": "Python 3",
   "language": "python",
   "name": "python3"
  },
  "language_info": {
   "codemirror_mode": {
    "name": "ipython",
    "version": 3
   },
   "file_extension": ".py",
   "mimetype": "text/x-python",
   "name": "python",
   "nbconvert_exporter": "python",
   "pygments_lexer": "ipython3",
   "version": "3.8.6rc1"
  }
 },
 "nbformat": 4,
 "nbformat_minor": 4
}
